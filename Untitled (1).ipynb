{
 "cells": [
  {
   "cell_type": "code",
   "execution_count": 1,
   "id": "72d22fc0-90b4-4c95-9e3d-637b9820fe3a",
   "metadata": {},
   "outputs": [
    {
     "name": "stdout",
     "output_type": "stream",
     "text": [
      "Collecting Faker\n",
      "  Downloading faker-37.8.0-py3-none-any.whl (2.0 MB)\n",
      "\u001b[2K     \u001b[38;2;114;156;31m━━━━━━━━━━━━━━━━━━━━━━━━━━━━━━━━━━━━━━━━\u001b[0m \u001b[32m2.0/2.0 MB\u001b[0m \u001b[31m1.2 MB/s\u001b[0m eta \u001b[36m0:00:00\u001b[0m MB/s\u001b[0m eta \u001b[36m0:00:01\u001b[0m:01\u001b[0m0m\n",
      "\u001b[?25hCollecting tzdata\n",
      "  Using cached tzdata-2025.2-py2.py3-none-any.whl (347 kB)\n",
      "Installing collected packages: tzdata, Faker\n",
      "Successfully installed Faker-37.8.0 tzdata-2025.2\n",
      "\n",
      "\u001b[1m[\u001b[0m\u001b[34;49mnotice\u001b[0m\u001b[1;39;49m]\u001b[0m\u001b[39;49m A new release of pip is available: \u001b[0m\u001b[31;49m23.0.1\u001b[0m\u001b[39;49m -> \u001b[0m\u001b[32;49m25.2\u001b[0m\n",
      "\u001b[1m[\u001b[0m\u001b[34;49mnotice\u001b[0m\u001b[1;39;49m]\u001b[0m\u001b[39;49m To update, run: \u001b[0m\u001b[32;49mpip install --upgrade pip\u001b[0m\n"
     ]
    }
   ],
   "source": [
    "! pip install Faker\n"
   ]
  },
  {
   "cell_type": "code",
   "execution_count": 4,
   "id": "7bffd196-1c62-46da-990d-d11a980b422c",
   "metadata": {},
   "outputs": [
    {
     "name": "stdout",
     "output_type": "stream",
     "text": [
      "Collecting apache-flink\n",
      "  Using cached apache_flink-2.1.0-cp39-cp39-macosx_11_0_arm64.whl (2.5 MB)\n",
      "Requirement already satisfied: requests>=2.26.0 in ./lib/python3.9/site-packages (from apache-flink) (2.32.5)\n",
      "Collecting ruamel.yaml>=0.18.4\n",
      "  Using cached ruamel.yaml-0.18.15-py3-none-any.whl (119 kB)\n",
      "Collecting apache-beam<=2.61.0,>=2.54.0\n",
      "  Using cached apache_beam-2.61.0-cp39-cp39-macosx_15_0_arm64.whl\n",
      "Collecting avro>=1.12.0\n",
      "  Using cached avro-1.12.0-py2.py3-none-any.whl (124 kB)\n",
      "Collecting protobuf>=3.19.0\n",
      "  Using cached protobuf-6.32.1-cp39-abi3-macosx_10_9_universal2.whl (426 kB)\n",
      "Collecting pytz>=2018.3\n",
      "  Using cached pytz-2025.2-py2.py3-none-any.whl (509 kB)\n",
      "Collecting pyarrow<21.0.0,>=5.0.0\n",
      "  Using cached pyarrow-20.0.0-cp39-cp39-macosx_12_0_arm64.whl (30.8 MB)\n",
      "Collecting pandas>=1.3.0\n",
      "  Using cached pandas-2.3.2-cp39-cp39-macosx_11_0_arm64.whl (10.8 MB)\n",
      "Collecting py4j==0.10.9.7\n",
      "  Using cached py4j-0.10.9.7-py2.py3-none-any.whl (200 kB)\n",
      "Collecting pemja<0.5.4,>=0.5.0\n",
      "  Using cached pemja-0.5.3-cp39-cp39-macosx_11_0_arm64.whl (53 kB)\n",
      "Collecting httplib2>=0.19.0\n",
      "  Using cached httplib2-0.31.0-py3-none-any.whl (91 kB)\n",
      "Collecting apache-flink-libraries<2.1.1,>=2.1.0\n",
      "  Using cached apache_flink_libraries-2.1.0.tar.gz (309.7 MB)\n",
      "  Preparing metadata (setup.py) ... \u001b[?25ldone\n",
      "\u001b[?25hRequirement already satisfied: python-dateutil<3,>=2.8.0 in ./lib/python3.9/site-packages (from apache-flink) (2.9.0.post0)\n",
      "Collecting fastavro!=1.8.0,>=1.1.0\n",
      "  Using cached fastavro-1.12.0-cp39-cp39-macosx_10_9_universal2.whl (950 kB)\n",
      "Collecting cloudpickle>=2.2.0\n",
      "  Using cached cloudpickle-3.1.1-py3-none-any.whl (20 kB)\n",
      "Collecting numpy>=1.22.4\n",
      "  Using cached numpy-2.0.2-cp39-cp39-macosx_14_0_arm64.whl (5.3 MB)\n",
      "Collecting httplib2>=0.19.0\n",
      "  Using cached httplib2-0.22.0-py3-none-any.whl (96 kB)\n",
      "Collecting crcmod<2.0,>=1.7\n",
      "  Using cached crcmod-1.7.tar.gz (89 kB)\n",
      "  Preparing metadata (setup.py) ... \u001b[?25ldone\n",
      "\u001b[?25hCollecting pyarrow-hotfix<1\n",
      "  Using cached pyarrow_hotfix-0.7-py3-none-any.whl (7.9 kB)\n",
      "Collecting pymongo<5.0.0,>=3.8.0\n",
      "  Using cached pymongo-4.15.1-cp39-cp39-macosx_11_0_arm64.whl (756 kB)\n",
      "Collecting cloudpickle>=2.2.0\n",
      "  Using cached cloudpickle-2.2.1-py3-none-any.whl (25 kB)\n",
      "Collecting hdfs<3.0.0,>=2.1.0\n",
      "  Using cached hdfs-2.7.3.tar.gz (43 kB)\n",
      "  Preparing metadata (setup.py) ... \u001b[?25ldone\n",
      "\u001b[?25hRequirement already satisfied: typing-extensions>=3.7.0 in ./lib/python3.9/site-packages (from apache-beam<=2.61.0,>=2.54.0->apache-flink) (4.15.0)\n",
      "Requirement already satisfied: jsonschema<5.0.0,>=4.0.0 in ./lib/python3.9/site-packages (from apache-beam<=2.61.0,>=2.54.0->apache-flink) (4.25.1)\n",
      "Collecting pydot<2,>=1.2.0\n",
      "  Using cached pydot-1.4.2-py2.py3-none-any.whl (21 kB)\n",
      "Collecting pyarrow<21.0.0,>=5.0.0\n",
      "  Using cached pyarrow-16.1.0-cp39-cp39-macosx_11_0_arm64.whl (26.0 MB)\n",
      "Collecting objsize<0.8.0,>=0.6.1\n",
      "  Using cached objsize-0.7.1-py3-none-any.whl (11 kB)\n",
      "Collecting dill<0.3.2,>=0.3.1.1\n",
      "  Using cached dill-0.3.1.1.tar.gz (151 kB)\n",
      "  Preparing metadata (setup.py) ... \u001b[?25ldone\n",
      "\u001b[?25hRequirement already satisfied: pyyaml<7.0.0,>=3.12 in ./lib/python3.9/site-packages (from apache-beam<=2.61.0,>=2.54.0->apache-flink) (6.0.3)\n",
      "Collecting protobuf>=3.19.0\n",
      "  Using cached protobuf-5.29.5-cp38-abi3-macosx_10_9_universal2.whl (418 kB)\n",
      "Requirement already satisfied: packaging>=22.0 in ./lib/python3.9/site-packages (from apache-beam<=2.61.0,>=2.54.0->apache-flink) (25.0)\n",
      "Collecting sortedcontainers>=2.4.0\n",
      "  Using cached sortedcontainers-2.4.0-py2.py3-none-any.whl (29 kB)\n",
      "Collecting jsonpickle<4.0.0,>=3.0.0\n",
      "  Using cached jsonpickle-3.4.2-py3-none-any.whl (46 kB)\n",
      "Collecting orjson<4,>=3.9.7\n",
      "  Using cached orjson-3.11.3-cp39-cp39-macosx_10_15_x86_64.macosx_11_0_arm64.macosx_10_15_universal2.whl (238 kB)\n",
      "Collecting redis<6,>=5.0.0\n",
      "  Using cached redis-5.3.1-py3-none-any.whl (272 kB)\n",
      "Collecting grpcio!=1.48.0,!=1.59.*,!=1.60.*,!=1.61.*,!=1.62.0,!=1.62.1,<1.66.0,<2,>=1.33.1\n",
      "  Using cached grpcio-1.65.5-cp39-cp39-macosx_10_9_universal2.whl (10.5 MB)\n",
      "Collecting proto-plus<2,>=1.7.1\n",
      "  Using cached proto_plus-1.26.1-py3-none-any.whl (50 kB)\n",
      "Collecting regex>=2020.6.8\n",
      "  Using cached regex-2025.9.18-cp39-cp39-macosx_11_0_arm64.whl (286 kB)\n",
      "Collecting zstandard<1,>=0.18.0\n",
      "  Using cached zstandard-0.25.0-cp39-cp39-macosx_11_0_arm64.whl (640 kB)\n",
      "Collecting fasteners<1.0,>=0.3\n",
      "  Using cached fasteners-0.20-py3-none-any.whl (18 kB)\n",
      "Collecting pyparsing!=3.0.0,!=3.0.1,!=3.0.2,!=3.0.3,<4,>=2.4.2\n",
      "  Using cached pyparsing-3.2.5-py3-none-any.whl (113 kB)\n",
      "Requirement already satisfied: tzdata>=2022.7 in ./lib/python3.9/site-packages (from pandas>=1.3.0->apache-flink) (2025.2)\n",
      "Collecting find-libpython\n",
      "  Using cached find_libpython-0.4.1-py3-none-any.whl (8.8 kB)\n",
      "Requirement already satisfied: six>=1.5 in ./lib/python3.9/site-packages (from python-dateutil<3,>=2.8.0->apache-flink) (1.17.0)\n",
      "Requirement already satisfied: certifi>=2017.4.17 in ./lib/python3.9/site-packages (from requests>=2.26.0->apache-flink) (2025.8.3)\n",
      "Requirement already satisfied: idna<4,>=2.5 in ./lib/python3.9/site-packages (from requests>=2.26.0->apache-flink) (3.10)\n",
      "Requirement already satisfied: charset_normalizer<4,>=2 in ./lib/python3.9/site-packages (from requests>=2.26.0->apache-flink) (3.4.3)\n",
      "Requirement already satisfied: urllib3<3,>=1.21.1 in ./lib/python3.9/site-packages (from requests>=2.26.0->apache-flink) (2.5.0)\n",
      "Collecting ruamel.yaml.clib>=0.2.7\n",
      "  Using cached ruamel.yaml.clib-0.2.14-cp39-cp39-macosx_12_0_arm64.whl (137 kB)\n",
      "Collecting docopt\n",
      "  Using cached docopt-0.6.2.tar.gz (25 kB)\n",
      "  Preparing metadata (setup.py) ... \u001b[?25ldone\n",
      "\u001b[?25hRequirement already satisfied: rpds-py>=0.7.1 in ./lib/python3.9/site-packages (from jsonschema<5.0.0,>=4.0.0->apache-beam<=2.61.0,>=2.54.0->apache-flink) (0.27.1)\n",
      "Requirement already satisfied: attrs>=22.2.0 in ./lib/python3.9/site-packages (from jsonschema<5.0.0,>=4.0.0->apache-beam<=2.61.0,>=2.54.0->apache-flink) (25.3.0)\n",
      "Requirement already satisfied: referencing>=0.28.4 in ./lib/python3.9/site-packages (from jsonschema<5.0.0,>=4.0.0->apache-beam<=2.61.0,>=2.54.0->apache-flink) (0.36.2)\n",
      "Requirement already satisfied: jsonschema-specifications>=2023.03.6 in ./lib/python3.9/site-packages (from jsonschema<5.0.0,>=4.0.0->apache-beam<=2.61.0,>=2.54.0->apache-flink) (2025.9.1)\n",
      "Collecting dnspython<3.0.0,>=1.16.0\n",
      "  Using cached dnspython-2.7.0-py3-none-any.whl (313 kB)\n",
      "Collecting async-timeout>=4.0.3\n",
      "  Using cached async_timeout-5.0.1-py3-none-any.whl (6.2 kB)\n",
      "Collecting PyJWT>=2.9.0\n",
      "  Using cached PyJWT-2.10.1-py3-none-any.whl (22 kB)\n",
      "Installing collected packages: sortedcontainers, pytz, py4j, find-libpython, docopt, crcmod, zstandard, ruamel.yaml.clib, regex, pyparsing, PyJWT, pyarrow-hotfix, protobuf, pemja, orjson, objsize, numpy, jsonpickle, grpcio, fasteners, fastavro, dnspython, dill, cloudpickle, avro, async-timeout, apache-flink-libraries, ruamel.yaml, redis, pymongo, pydot, pyarrow, proto-plus, pandas, httplib2, hdfs, apache-beam, apache-flink\n",
      "\u001b[33m  DEPRECATION: docopt is being installed using the legacy 'setup.py install' method, because it does not have a 'pyproject.toml' and the 'wheel' package is not installed. pip 23.1 will enforce this behaviour change. A possible replacement is to enable the '--use-pep517' option. Discussion can be found at https://github.com/pypa/pip/issues/8559\u001b[0m\u001b[33m\n",
      "\u001b[0m  Running setup.py install for docopt ... \u001b[?25ldone\n",
      "\u001b[33m  DEPRECATION: crcmod is being installed using the legacy 'setup.py install' method, because it does not have a 'pyproject.toml' and the 'wheel' package is not installed. pip 23.1 will enforce this behaviour change. A possible replacement is to enable the '--use-pep517' option. Discussion can be found at https://github.com/pypa/pip/issues/8559\u001b[0m\u001b[33m\n",
      "\u001b[0m\u001b[?25h  Running setup.py install for crcmod ... \u001b[?25ldone\n",
      "\u001b[33m  DEPRECATION: dill is being installed using the legacy 'setup.py install' method, because it does not have a 'pyproject.toml' and the 'wheel' package is not installed. pip 23.1 will enforce this behaviour change. A possible replacement is to enable the '--use-pep517' option. Discussion can be found at https://github.com/pypa/pip/issues/8559\u001b[0m\u001b[33m\n",
      "\u001b[0m\u001b[?25h  Running setup.py install for dill ... \u001b[?25ldone\n",
      "\u001b[33m  DEPRECATION: apache-flink-libraries is being installed using the legacy 'setup.py install' method, because it does not have a 'pyproject.toml' and the 'wheel' package is not installed. pip 23.1 will enforce this behaviour change. A possible replacement is to enable the '--use-pep517' option. Discussion can be found at https://github.com/pypa/pip/issues/8559\u001b[0m\u001b[33m\n",
      "\u001b[0m\u001b[?25h  Running setup.py install for apache-flink-libraries ... \u001b[?25ldone\n",
      "\u001b[33m  DEPRECATION: hdfs is being installed using the legacy 'setup.py install' method, because it does not have a 'pyproject.toml' and the 'wheel' package is not installed. pip 23.1 will enforce this behaviour change. A possible replacement is to enable the '--use-pep517' option. Discussion can be found at https://github.com/pypa/pip/issues/8559\u001b[0m\u001b[33m\n",
      "\u001b[0m\u001b[?25h  Running setup.py install for hdfs ... \u001b[?25ldone\n",
      "\u001b[?25hSuccessfully installed PyJWT-2.10.1 apache-beam-2.61.0 apache-flink-2.1.0 apache-flink-libraries-2.1.0 async-timeout-5.0.1 avro-1.12.0 cloudpickle-2.2.1 crcmod-1.7 dill-0.3.1.1 dnspython-2.7.0 docopt-0.6.2 fastavro-1.12.0 fasteners-0.20 find-libpython-0.4.1 grpcio-1.65.5 hdfs-2.7.3 httplib2-0.22.0 jsonpickle-3.4.2 numpy-2.0.2 objsize-0.7.1 orjson-3.11.3 pandas-2.3.2 pemja-0.5.3 proto-plus-1.26.1 protobuf-5.29.5 py4j-0.10.9.7 pyarrow-16.1.0 pyarrow-hotfix-0.7 pydot-1.4.2 pymongo-4.15.1 pyparsing-3.2.5 pytz-2025.2 redis-5.3.1 regex-2025.9.18 ruamel.yaml-0.18.15 ruamel.yaml.clib-0.2.14 sortedcontainers-2.4.0 zstandard-0.25.0\n",
      "\n",
      "\u001b[1m[\u001b[0m\u001b[34;49mnotice\u001b[0m\u001b[1;39;49m]\u001b[0m\u001b[39;49m A new release of pip is available: \u001b[0m\u001b[31;49m23.0.1\u001b[0m\u001b[39;49m -> \u001b[0m\u001b[32;49m25.2\u001b[0m\n",
      "\u001b[1m[\u001b[0m\u001b[34;49mnotice\u001b[0m\u001b[1;39;49m]\u001b[0m\u001b[39;49m To update, run: \u001b[0m\u001b[32;49mpip install --upgrade pip\u001b[0m\n",
      "Note: you may need to restart the kernel to use updated packages.\n"
     ]
    }
   ],
   "source": [
    "pip install apache-flink\n"
   ]
  },
  {
   "cell_type": "code",
   "execution_count": 3,
   "id": "08a5284d-81b8-4ff2-a82d-b320be98aada",
   "metadata": {},
   "outputs": [
    {
     "name": "stdout",
     "output_type": "stream",
     "text": [
      "openjdk version \"17.0.15\" 2025-04-15\n",
      "OpenJDK Runtime Environment Homebrew (build 17.0.15+0)\n",
      "OpenJDK 64-Bit Server VM Homebrew (build 17.0.15+0, mixed mode, sharing)\n"
     ]
    }
   ],
   "source": [
    "! java -version"
   ]
  },
  {
   "cell_type": "code",
   "execution_count": 5,
   "id": "0ec4109e-5c24-457f-a7b6-9981ba6dc449",
   "metadata": {},
   "outputs": [],
   "source": [
    "from pyflink.table import EnvironmentSettings, TableEnvironment\n",
    "from faker import Faker\n"
   ]
  },
  {
   "cell_type": "code",
   "execution_count": 6,
   "id": "8599dd9a-632f-49c0-983c-7c878cc7b395",
   "metadata": {},
   "outputs": [],
   "source": [
    "env_settings = EnvironmentSettings.in_batch_mode()\n",
    "table_env = TableEnvironment.create(env_settings) "
   ]
  },
  {
   "cell_type": "code",
   "execution_count": 11,
   "id": "00c32c8e-04bd-4e0b-b3d8-2a57e55200a8",
   "metadata": {},
   "outputs": [],
   "source": [
    "from pyflink.table.expressions import col "
   ]
  },
  {
   "cell_type": "code",
   "execution_count": 7,
   "id": "0cac490b-3d3d-46b4-87b2-adc999e13ce4",
   "metadata": {},
   "outputs": [],
   "source": [
    "fake = Faker()\n",
    "\n",
    "data = [(fake.name(), fake.city(), fake.state()) for _ in range(10)]  # Generate 10 rows of fake data\n",
    "\n",
    "column_names = [\"name\", \"city\", \"state\"]\n"
   ]
  },
  {
   "cell_type": "code",
   "execution_count": 8,
   "id": "a907946d-6731-442b-9d1c-dafd60afcaec",
   "metadata": {},
   "outputs": [
    {
     "name": "stdout",
     "output_type": "stream",
     "text": [
      "+--------------------------------+--------------------------------+--------------------------------+\n",
      "|                           name |                           city |                          state |\n",
      "+--------------------------------+--------------------------------+--------------------------------+\n",
      "|                    Harold Ruiz |                    Vazquezview |                   North Dakota |\n",
      "|                    Joshua Gray |                    Lake Daniel |                       New York |\n",
      "|               Austin Patterson |                    Garrettside |                    Connecticut |\n",
      "|                   Alan Spencer |              North Gregoryberg |                       Virginia |\n",
      "|                      Robyn Lee |              West Valerieshire |                           Iowa |\n",
      "|                      Adam York |                 South Tammyton |                       Arkansas |\n",
      "|                    Henry Davis |             New Claudiachester |                           Utah |\n",
      "|                Michele Compton |                     New Eugene |                   South Dakota |\n",
      "|                    John Wright |               North Katieshire |                  West Virginia |\n",
      "|                     Becky Rios |                      Karenstad |                         Kansas |\n",
      "+--------------------------------+--------------------------------+--------------------------------+\n",
      "10 rows in set\n"
     ]
    }
   ],
   "source": [
    "table = table_env.from_elements(data, schema=column_names)\n",
    "\n",
    "# Print the table\n",
    "table.execute().print() "
   ]
  },
  {
   "cell_type": "code",
   "execution_count": 9,
   "id": "d3deee47-2d05-4bed-8020-633cd662de51",
   "metadata": {},
   "outputs": [
    {
     "name": "stdout",
     "output_type": "stream",
     "text": [
      "+--------------------------------+--------------------------------+--------------------------------+\n",
      "|                           name |                           city |                          state |\n",
      "+--------------------------------+--------------------------------+--------------------------------+\n",
      "|                    Harold Ruiz |                    Vazquezview |                   North Dakota |\n",
      "|                    Joshua Gray |                    Lake Daniel |                       New York |\n",
      "|               Austin Patterson |                    Garrettside |                    Connecticut |\n",
      "|                   Alan Spencer |              North Gregoryberg |                       Virginia |\n",
      "|                      Robyn Lee |              West Valerieshire |                           Iowa |\n",
      "|                      Adam York |                 South Tammyton |                       Arkansas |\n",
      "|                    Henry Davis |             New Claudiachester |                           Utah |\n",
      "|                Michele Compton |                     New Eugene |                   South Dakota |\n",
      "|                    John Wright |               North Katieshire |                  West Virginia |\n",
      "|                     Becky Rios |                      Karenstad |                         Kansas |\n",
      "+--------------------------------+--------------------------------+--------------------------------+\n",
      "10 rows in set\n"
     ]
    }
   ],
   "source": [
    "table_env.create_temporary_view('source_table', table)\n",
    "\n",
    "table_env.execute_sql(f\"SELECT * FROM source_table \").print()\n"
   ]
  },
  {
   "cell_type": "code",
   "execution_count": 12,
   "id": "3ca35a77-ae54-4a97-a87c-1a5f6aa2cd62",
   "metadata": {},
   "outputs": [
    {
     "name": "stdout",
     "output_type": "stream",
     "text": [
      "+--------------------------------+--------------------------------+\n",
      "|                           name |                           city |\n",
      "+--------------------------------+--------------------------------+\n",
      "|                    Harold Ruiz |                    Vazquezview |\n",
      "|                    Joshua Gray |                    Lake Daniel |\n",
      "|               Austin Patterson |                    Garrettside |\n",
      "|                   Alan Spencer |              North Gregoryberg |\n",
      "|                      Robyn Lee |              West Valerieshire |\n",
      "|                      Adam York |                 South Tammyton |\n",
      "|                    Henry Davis |             New Claudiachester |\n",
      "|                Michele Compton |                     New Eugene |\n",
      "|                    John Wright |               North Katieshire |\n",
      "|                     Becky Rios |                      Karenstad |\n",
      "+--------------------------------+--------------------------------+\n",
      "10 rows in set\n"
     ]
    }
   ],
   "source": [
    "table.select(col(\"name\"), col(\"city\")).execute().print() "
   ]
  },
  {
   "cell_type": "code",
   "execution_count": 13,
   "id": "b87087be-e34e-47e7-8d1d-ece3bb0c2f99",
   "metadata": {},
   "outputs": [
    {
     "name": "stdout",
     "output_type": "stream",
     "text": [
      "Empty set\n"
     ]
    }
   ],
   "source": [
    "from pyflink.table.expressions import col\n",
    "\n",
    "table \\\n",
    "    .select(col(\"name\"), col(\"city\"), col(\"state\")) \\\n",
    "    .where(col(\"state\") == 'Vermont') \\\n",
    "    .execute().print() "
   ]
  },
  {
   "cell_type": "code",
   "execution_count": 14,
   "id": "3dd7cabe-196d-4bc1-87db-21d65db54583",
   "metadata": {},
   "outputs": [
    {
     "name": "stdout",
     "output_type": "stream",
     "text": [
      "+--------------------------------+----------------------+\n",
      "|                          state |                count |\n",
      "+--------------------------------+----------------------+\n",
      "|                   South Dakota |                    1 |\n",
      "|                           Utah |                    1 |\n",
      "|                  West Virginia |                    1 |\n",
      "|                   North Dakota |                    1 |\n",
      "|                    Connecticut |                    1 |\n",
      "|                         Kansas |                    1 |\n",
      "|                       Arkansas |                    1 |\n",
      "|                       Virginia |                    1 |\n",
      "|                           Iowa |                    1 |\n",
      "|                       New York |                    1 |\n",
      "+--------------------------------+----------------------+\n",
      "10 rows in set\n"
     ]
    }
   ],
   "source": [
    "table \\\n",
    "    .group_by(col(\"state\")) \\\n",
    "    .select(col(\"state\").alias(\"state\"), col(\"name\").count.alias(\"count\")) \\\n",
    "    .execute().print()"
   ]
  },
  {
   "cell_type": "code",
   "execution_count": 15,
   "id": "f65d6359-1502-464c-bf8c-9d61fd7705c8",
   "metadata": {},
   "outputs": [
    {
     "name": "stdout",
     "output_type": "stream",
     "text": [
      "1> +I[Harold Ruiz, Vazquezview, North Dakota]\n",
      "1> +I[Joshua Gray, Lake Daniel, New York]\n",
      "1> +I[Austin Patterson, Garrettside, Connecticut]\n",
      "1> +I[Alan Spencer, North Gregoryberg, Virginia]\n",
      "1> +I[Robyn Lee, West Valerieshire, Iowa]\n",
      "1> +I[Adam York, South Tammyton, Arkansas]\n",
      "1> +I[Henry Davis, New Claudiachester, Utah]\n",
      "1> +I[Michele Compton, New Eugene, South Dakota]\n",
      "1> +I[John Wright, North Katieshire, West Virginia]\n",
      "1> +I[Becky Rios, Karenstad, Kansas]\n"
     ]
    }
   ],
   "source": [
    "table_env.execute_sql(\"\"\"\n",
    "    CREATE TABLE print_sink (\n",
    "        name STRING, \n",
    "        city STRING,\n",
    "        state STRING\n",
    "    ) WITH (\n",
    "        'connector' = 'print'\n",
    "    )\n",
    "\"\"\")\n",
    "\n",
    "table_env.execute_sql(\"\"\"\n",
    "    INSERT INTO print_sink\n",
    "        SELECT * FROM source_table\n",
    "\"\"\").wait() "
   ]
  },
  {
   "cell_type": "code",
   "execution_count": 16,
   "id": "e4d4c717-21f0-4b47-8e19-753820acca8b",
   "metadata": {},
   "outputs": [
    {
     "name": "stdout",
     "output_type": "stream",
     "text": [
      "<Row('Harold Ruiz', 'Vazquezview', 'North Dakota')>\n",
      "<Row('Joshua Gray', 'Lake Daniel', 'New York')>\n",
      "<Row('Austin Patterson', 'Garrettside', 'Connecticut')>\n",
      "<Row('Alan Spencer', 'North Gregoryberg', 'Virginia')>\n",
      "<Row('Robyn Lee', 'West Valerieshire', 'Iowa')>\n",
      "<Row('Adam York', 'South Tammyton', 'Arkansas')>\n",
      "<Row('Henry Davis', 'New Claudiachester', 'Utah')>\n",
      "<Row('Michele Compton', 'New Eugene', 'South Dakota')>\n",
      "<Row('John Wright', 'North Katieshire', 'West Virginia')>\n",
      "<Row('Becky Rios', 'Karenstad', 'Kansas')>\n"
     ]
    }
   ],
   "source": [
    "table_result = table_env.execute_sql(f\"SELECT * FROM source_table \")\n",
    "\n",
    "with table_result.collect() as results:\n",
    "   for result in results:\n",
    "       print(result) "
   ]
  },
  {
   "cell_type": "code",
   "execution_count": 17,
   "id": "07b8c294-4911-426e-b7be-7c3bf222decb",
   "metadata": {},
   "outputs": [
    {
     "data": {
      "text/html": [
       "<div>\n",
       "<style scoped>\n",
       "    .dataframe tbody tr th:only-of-type {\n",
       "        vertical-align: middle;\n",
       "    }\n",
       "\n",
       "    .dataframe tbody tr th {\n",
       "        vertical-align: top;\n",
       "    }\n",
       "\n",
       "    .dataframe thead th {\n",
       "        text-align: right;\n",
       "    }\n",
       "</style>\n",
       "<table border=\"1\" class=\"dataframe\">\n",
       "  <thead>\n",
       "    <tr style=\"text-align: right;\">\n",
       "      <th></th>\n",
       "      <th>name</th>\n",
       "      <th>city</th>\n",
       "      <th>state</th>\n",
       "    </tr>\n",
       "  </thead>\n",
       "  <tbody>\n",
       "    <tr>\n",
       "      <th>0</th>\n",
       "      <td>Harold Ruiz</td>\n",
       "      <td>Vazquezview</td>\n",
       "      <td>North Dakota</td>\n",
       "    </tr>\n",
       "    <tr>\n",
       "      <th>1</th>\n",
       "      <td>Joshua Gray</td>\n",
       "      <td>Lake Daniel</td>\n",
       "      <td>New York</td>\n",
       "    </tr>\n",
       "    <tr>\n",
       "      <th>2</th>\n",
       "      <td>Austin Patterson</td>\n",
       "      <td>Garrettside</td>\n",
       "      <td>Connecticut</td>\n",
       "    </tr>\n",
       "    <tr>\n",
       "      <th>3</th>\n",
       "      <td>Alan Spencer</td>\n",
       "      <td>North Gregoryberg</td>\n",
       "      <td>Virginia</td>\n",
       "    </tr>\n",
       "    <tr>\n",
       "      <th>4</th>\n",
       "      <td>Robyn Lee</td>\n",
       "      <td>West Valerieshire</td>\n",
       "      <td>Iowa</td>\n",
       "    </tr>\n",
       "    <tr>\n",
       "      <th>5</th>\n",
       "      <td>Adam York</td>\n",
       "      <td>South Tammyton</td>\n",
       "      <td>Arkansas</td>\n",
       "    </tr>\n",
       "    <tr>\n",
       "      <th>6</th>\n",
       "      <td>Henry Davis</td>\n",
       "      <td>New Claudiachester</td>\n",
       "      <td>Utah</td>\n",
       "    </tr>\n",
       "    <tr>\n",
       "      <th>7</th>\n",
       "      <td>Michele Compton</td>\n",
       "      <td>New Eugene</td>\n",
       "      <td>South Dakota</td>\n",
       "    </tr>\n",
       "    <tr>\n",
       "      <th>8</th>\n",
       "      <td>John Wright</td>\n",
       "      <td>North Katieshire</td>\n",
       "      <td>West Virginia</td>\n",
       "    </tr>\n",
       "    <tr>\n",
       "      <th>9</th>\n",
       "      <td>Becky Rios</td>\n",
       "      <td>Karenstad</td>\n",
       "      <td>Kansas</td>\n",
       "    </tr>\n",
       "  </tbody>\n",
       "</table>\n",
       "</div>"
      ],
      "text/plain": [
       "               name                city          state\n",
       "0       Harold Ruiz         Vazquezview   North Dakota\n",
       "1       Joshua Gray         Lake Daniel       New York\n",
       "2  Austin Patterson         Garrettside    Connecticut\n",
       "3      Alan Spencer   North Gregoryberg       Virginia\n",
       "4         Robyn Lee   West Valerieshire           Iowa\n",
       "5         Adam York      South Tammyton       Arkansas\n",
       "6       Henry Davis  New Claudiachester           Utah\n",
       "7   Michele Compton          New Eugene   South Dakota\n",
       "8       John Wright    North Katieshire  West Virginia\n",
       "9        Becky Rios           Karenstad         Kansas"
      ]
     },
     "execution_count": 17,
     "metadata": {},
     "output_type": "execute_result"
    }
   ],
   "source": [
    "pandas_df = table.to_pandas()\n",
    "pandas_df\n"
   ]
  },
  {
   "cell_type": "code",
   "execution_count": 19,
   "id": "0066d23e-f596-47ee-b787-663c8c7f7930",
   "metadata": {},
   "outputs": [
    {
     "name": "stdout",
     "output_type": "stream",
     "text": [
      "+--------------------------------+--------------------------------+--------------------------------+\n",
      "|                           name |                           city |                          state |\n",
      "+--------------------------------+--------------------------------+--------------------------------+\n",
      "|                    Harold Ruiz |                    Vazquezview |                   North Dakota |\n",
      "|                    Joshua Gray |                    Lake Daniel |                       New York |\n",
      "|               Austin Patterson |                    Garrettside |                    Connecticut |\n",
      "|                   Alan Spencer |              North Gregoryberg |                       Virginia |\n",
      "|                      Robyn Lee |              West Valerieshire |                           Iowa |\n",
      "|                      Adam York |                 South Tammyton |                       Arkansas |\n",
      "|                    Henry Davis |             New Claudiachester |                           Utah |\n",
      "|                Michele Compton |                     New Eugene |                   South Dakota |\n",
      "|                    John Wright |               North Katieshire |                  West Virginia |\n",
      "|                     Becky Rios |                      Karenstad |                         Kansas |\n",
      "+--------------------------------+--------------------------------+--------------------------------+\n",
      "10 rows in set\n"
     ]
    }
   ],
   "source": [
    "table_temp = table_env.from_pandas(pandas_df)\n",
    "table_temp.execute().print() "
   ]
  },
  {
   "cell_type": "code",
   "execution_count": 20,
   "id": "b215ff51-54ec-49fe-8770-dada5574a8de",
   "metadata": {},
   "outputs": [
    {
     "name": "stdout",
     "output_type": "stream",
     "text": [
      "+--------------------------------+--------------------------------+--------------------------------+\n",
      "|                           name |                           city |                          state |\n",
      "+--------------------------------+--------------------------------+--------------------------------+\n",
      "|                    Harold Ruiz |                    Vazquezview |                   North Dakota |\n",
      "|                    Joshua Gray |                    Lake Daniel |                       New York |\n",
      "|               Austin Patterson |                    Garrettside |                    Connecticut |\n",
      "|                   Alan Spencer |              North Gregoryberg |                       Virginia |\n",
      "|                      Robyn Lee |              West Valerieshire |                           Iowa |\n",
      "|                      Adam York |                 South Tammyton |                       Arkansas |\n",
      "|                    Henry Davis |             New Claudiachester |                           Utah |\n",
      "|                Michele Compton |                     New Eugene |                   South Dakota |\n",
      "|                    John Wright |               North Katieshire |                  West Virginia |\n",
      "|                     Becky Rios |                      Karenstad |                         Kansas |\n",
      "+--------------------------------+--------------------------------+--------------------------------+\n",
      "10 rows in set\n"
     ]
    }
   ],
   "source": [
    "table.execute().print()\n"
   ]
  },
  {
   "cell_type": "code",
   "execution_count": null,
   "id": "e4f5813c-9826-4c69-9302-9ba236716144",
   "metadata": {},
   "outputs": [],
   "source": []
  }
 ],
 "metadata": {
  "kernelspec": {
   "display_name": "Python 3 (ipykernel)",
   "language": "python",
   "name": "python3"
  },
  "language_info": {
   "codemirror_mode": {
    "name": "ipython",
    "version": 3
   },
   "file_extension": ".py",
   "mimetype": "text/x-python",
   "name": "python",
   "nbconvert_exporter": "python",
   "pygments_lexer": "ipython3",
   "version": "3.9.18"
  }
 },
 "nbformat": 4,
 "nbformat_minor": 5
}
